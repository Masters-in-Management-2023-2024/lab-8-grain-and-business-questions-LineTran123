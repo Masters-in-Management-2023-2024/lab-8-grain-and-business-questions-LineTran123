{
  "cells": [
    {
      "cell_type": "markdown",
      "metadata": {
        "id": "3oX6GX9iEMwi"
      },
      "source": [
        "# Diamond Company Analytics Challenge\n",
        "\n",
        "**Time:** 35 minutes\n",
        "\n",
        "**Scenario:** You are the new data analyst at a prestigious diamond company. The CEO has called an urgent meeting and needs answers to critical business questions about the inventory.\n",
        "\n",
        "**Your Mission:** Analyze the diamond inventory data and provide insights to guide strategic decisions."
      ]
    },
    {
      "cell_type": "code",
      "execution_count": null,
      "metadata": {
        "colab": {
          "base_uri": "https://localhost:8080/"
        },
        "id": "9zFaN1ENEMwk",
        "outputId": "14752dd8-14d5-49a2-972c-9fd51b45a42b"
      },
      "outputs": [
        {
          "output_type": "stream",
          "name": "stdout",
          "text": [
            "Loading diamonds dataset...\n",
            "Dataset loaded successfully!\n"
          ]
        }
      ],
      "source": [
        "import polars as pl\n",
        "\n",
        "# Load the diamonds dataset\n",
        "print(\"Loading diamonds dataset...\")\n",
        "df = pl.read_csv('https://raw.githubusercontent.com/pycaret/pycaret/master/datasets/diamond.csv')\n",
        "print(\"Dataset loaded successfully!\")"
      ]
    },
    {
      "cell_type": "markdown",
      "metadata": {
        "id": "v3DpgD8GEMwk"
      },
      "source": [
        "## Section 1: Initial Inventory Assessment (5 minutes)\n",
        "\n",
        "The CEO walks in: \"Before we dive into specifics, I need to understand what we're working with. Give me the basics about our inventory database.\""
      ]
    },
    {
      "cell_type": "markdown",
      "metadata": {
        "id": "RrqaDkGEEMwl"
      },
      "source": [
        "### Question 1: \"How extensive is our inventory database?\"\n",
        "\n",
        "The CEO needs to know the scale of data you're analyzing."
      ]
    },
    {
      "cell_type": "code",
      "execution_count": null,
      "metadata": {
        "colab": {
          "base_uri": "https://localhost:8080/",
          "height": 461
        },
        "id": "H4MypAtOEMwl",
        "outputId": "484cef60-9ae7-484f-eea6-1d063cbfa0cf"
      },
      "outputs": [
        {
          "output_type": "stream",
          "name": "stdout",
          "text": [
            "Our inventory database has 6000 rows and 8 columns.\n"
          ]
        },
        {
          "output_type": "execute_result",
          "data": {
            "text/plain": [
              "shape: (6_000, 8)\n",
              "┌──────────────┬─────────────────┬───────┬─────────┬────────┬──────────┬────────┬───────┐\n",
              "│ Carat Weight ┆ Cut             ┆ Color ┆ Clarity ┆ Polish ┆ Symmetry ┆ Report ┆ Price │\n",
              "│ ---          ┆ ---             ┆ ---   ┆ ---     ┆ ---    ┆ ---      ┆ ---    ┆ ---   │\n",
              "│ f64          ┆ str             ┆ str   ┆ str     ┆ str    ┆ str      ┆ str    ┆ i64   │\n",
              "╞══════════════╪═════════════════╪═══════╪═════════╪════════╪══════════╪════════╪═══════╡\n",
              "│ 1.1          ┆ Ideal           ┆ H     ┆ SI1     ┆ VG     ┆ EX       ┆ GIA    ┆ 5169  │\n",
              "│ 0.83         ┆ Ideal           ┆ H     ┆ VS1     ┆ ID     ┆ ID       ┆ AGSL   ┆ 3470  │\n",
              "│ 0.85         ┆ Ideal           ┆ H     ┆ SI1     ┆ EX     ┆ EX       ┆ GIA    ┆ 3183  │\n",
              "│ 0.91         ┆ Ideal           ┆ E     ┆ SI1     ┆ VG     ┆ VG       ┆ GIA    ┆ 4370  │\n",
              "│ 0.83         ┆ Ideal           ┆ G     ┆ SI1     ┆ EX     ┆ EX       ┆ GIA    ┆ 3171  │\n",
              "│ …            ┆ …               ┆ …     ┆ …       ┆ …      ┆ …        ┆ …      ┆ …     │\n",
              "│ 1.03         ┆ Ideal           ┆ D     ┆ SI1     ┆ EX     ┆ EX       ┆ GIA    ┆ 6250  │\n",
              "│ 1.0          ┆ Very Good       ┆ D     ┆ SI1     ┆ VG     ┆ VG       ┆ GIA    ┆ 5328  │\n",
              "│ 1.02         ┆ Ideal           ┆ D     ┆ SI1     ┆ EX     ┆ EX       ┆ GIA    ┆ 6157  │\n",
              "│ 1.27         ┆ Signature-Ideal ┆ G     ┆ VS1     ┆ EX     ┆ EX       ┆ GIA    ┆ 11206 │\n",
              "│ 2.19         ┆ Ideal           ┆ E     ┆ VS1     ┆ EX     ┆ EX       ┆ GIA    ┆ 30507 │\n",
              "└──────────────┴─────────────────┴───────┴─────────┴────────┴──────────┴────────┴───────┘"
            ],
            "text/html": [
              "<div><style>\n",
              ".dataframe > thead > tr,\n",
              ".dataframe > tbody > tr {\n",
              "  text-align: right;\n",
              "  white-space: pre-wrap;\n",
              "}\n",
              "</style>\n",
              "<small>shape: (6_000, 8)</small><table border=\"1\" class=\"dataframe\"><thead><tr><th>Carat Weight</th><th>Cut</th><th>Color</th><th>Clarity</th><th>Polish</th><th>Symmetry</th><th>Report</th><th>Price</th></tr><tr><td>f64</td><td>str</td><td>str</td><td>str</td><td>str</td><td>str</td><td>str</td><td>i64</td></tr></thead><tbody><tr><td>1.1</td><td>&quot;Ideal&quot;</td><td>&quot;H&quot;</td><td>&quot;SI1&quot;</td><td>&quot;VG&quot;</td><td>&quot;EX&quot;</td><td>&quot;GIA&quot;</td><td>5169</td></tr><tr><td>0.83</td><td>&quot;Ideal&quot;</td><td>&quot;H&quot;</td><td>&quot;VS1&quot;</td><td>&quot;ID&quot;</td><td>&quot;ID&quot;</td><td>&quot;AGSL&quot;</td><td>3470</td></tr><tr><td>0.85</td><td>&quot;Ideal&quot;</td><td>&quot;H&quot;</td><td>&quot;SI1&quot;</td><td>&quot;EX&quot;</td><td>&quot;EX&quot;</td><td>&quot;GIA&quot;</td><td>3183</td></tr><tr><td>0.91</td><td>&quot;Ideal&quot;</td><td>&quot;E&quot;</td><td>&quot;SI1&quot;</td><td>&quot;VG&quot;</td><td>&quot;VG&quot;</td><td>&quot;GIA&quot;</td><td>4370</td></tr><tr><td>0.83</td><td>&quot;Ideal&quot;</td><td>&quot;G&quot;</td><td>&quot;SI1&quot;</td><td>&quot;EX&quot;</td><td>&quot;EX&quot;</td><td>&quot;GIA&quot;</td><td>3171</td></tr><tr><td>&hellip;</td><td>&hellip;</td><td>&hellip;</td><td>&hellip;</td><td>&hellip;</td><td>&hellip;</td><td>&hellip;</td><td>&hellip;</td></tr><tr><td>1.03</td><td>&quot;Ideal&quot;</td><td>&quot;D&quot;</td><td>&quot;SI1&quot;</td><td>&quot;EX&quot;</td><td>&quot;EX&quot;</td><td>&quot;GIA&quot;</td><td>6250</td></tr><tr><td>1.0</td><td>&quot;Very Good&quot;</td><td>&quot;D&quot;</td><td>&quot;SI1&quot;</td><td>&quot;VG&quot;</td><td>&quot;VG&quot;</td><td>&quot;GIA&quot;</td><td>5328</td></tr><tr><td>1.02</td><td>&quot;Ideal&quot;</td><td>&quot;D&quot;</td><td>&quot;SI1&quot;</td><td>&quot;EX&quot;</td><td>&quot;EX&quot;</td><td>&quot;GIA&quot;</td><td>6157</td></tr><tr><td>1.27</td><td>&quot;Signature-Ideal&quot;</td><td>&quot;G&quot;</td><td>&quot;VS1&quot;</td><td>&quot;EX&quot;</td><td>&quot;EX&quot;</td><td>&quot;GIA&quot;</td><td>11206</td></tr><tr><td>2.19</td><td>&quot;Ideal&quot;</td><td>&quot;E&quot;</td><td>&quot;VS1&quot;</td><td>&quot;EX&quot;</td><td>&quot;EX&quot;</td><td>&quot;GIA&quot;</td><td>30507</td></tr></tbody></table></div>"
            ]
          },
          "metadata": {},
          "execution_count": 2
        }
      ],
      "source": [
        "# How extensive is our inventory database? The CEO needs to know the scale of data you're analyzing:\n",
        "print(f\"Our inventory database has {df.shape[0]} rows and {df.shape[1]} columns.\")\n",
        "\n",
        "#Show the whole dataset\n",
        "df.head(6000)"
      ]
    },
    {
      "cell_type": "markdown",
      "metadata": {
        "id": "Acdat_tAEMwl"
      },
      "source": [
        "### Question 2: \"What information do we track about each diamond?\"\n",
        "\n",
        "List all the characteristics we record."
      ]
    },
    {
      "cell_type": "code",
      "execution_count": null,
      "metadata": {
        "colab": {
          "base_uri": "https://localhost:8080/"
        },
        "id": "HzmCOppIEMwl",
        "outputId": "1baa556b-4a6b-4acb-9963-4733be654334"
      },
      "outputs": [
        {
          "output_type": "stream",
          "name": "stdout",
          "text": [
            "Inventory database has the following columns, which represent characteristics:\n",
            "['Carat Weight', 'Cut', 'Color', 'Clarity', 'Polish', 'Symmetry', 'Report', 'Price']\n"
          ]
        }
      ],
      "source": [
        "#What infromation do we track about each diamond? List all the characteristics we record:\n",
        "print(\"Inventory database has the following columns, which represent characteristics:\")\n",
        "print(df.columns)"
      ]
    },
    {
      "cell_type": "markdown",
      "metadata": {
        "id": "4vcGDGtsEMwl"
      },
      "source": [
        "### Question 3: \"When I look at one line in this database, what am I looking at?\"\n",
        "\n",
        "Explain in business terms:"
      ]
    },
    {
      "cell_type": "markdown",
      "metadata": {
        "id": "GDB_P1tiEMwl"
      },
      "source": [
        "**Your answer:** A grain is what each row represents: You are looking at a row in the inventory database, representing a diamond."
      ]
    },
    {
      "cell_type": "markdown",
      "metadata": {
        "id": "FRD-9XWEEMwl"
      },
      "source": [
        "## Section 2: Strategic Business Questions (20 minutes)\n",
        "\n",
        "The CEO continues: \"Now let's get to the important questions. Our board meeting is tomorrow and I need concrete numbers.\""
      ]
    },
    {
      "cell_type": "markdown",
      "metadata": {
        "id": "w_vyED9IEMwl"
      },
      "source": [
        "### Question 4: \"We're considering expanding our storage facilities. How many total carats do we have in inventory? I need to know if our vaults can handle the weight.\"\n",
        "\n",
        "Think about what measurement would help answer this."
      ]
    },
    {
      "cell_type": "code",
      "execution_count": null,
      "metadata": {
        "colab": {
          "base_uri": "https://localhost:8080/"
        },
        "id": "td1LQ7SlEMwm",
        "outputId": "d131eeca-75e7-4942-c552-9093c9445b93"
      },
      "outputs": [
        {
          "output_type": "stream",
          "name": "stdout",
          "text": [
            "We have 8007.120000000001 total carats in inventory.\n"
          ]
        }
      ],
      "source": [
        "#We are considering expanding our storage facilities. How many total carats do we have in inventory? I need to know if our vaults can handle the weight:\n",
        "print(f\"We have {df['Carat Weight'].sum()} total carats in inventory.\")"
      ]
    },
    {
      "cell_type": "markdown",
      "metadata": {
        "id": "bKe5puaWEMwm"
      },
      "source": [
        "### Question 5: \"Our new marketing campaign claims we have 'the widest variety of cuts in the industry.' Can you verify this?\"\n",
        "\n",
        "The CEO wants to know about variety, not quantity."
      ]
    },
    {
      "cell_type": "code",
      "execution_count": 11,
      "metadata": {
        "colab": {
          "base_uri": "https://localhost:8080/"
        },
        "id": "vJb6bIz9EMwm",
        "outputId": "8a3b211a-6929-46cf-d648-8c24048b222e"
      },
      "outputs": [
        {
          "output_type": "stream",
          "name": "stdout",
          "text": [
            "We have shape: (5,)\n",
            "Series: 'Cut' [str]\n",
            "[\n",
            "\t\"Ideal\"\n",
            "\t\"Very Good\"\n",
            "\t\"Signature-Ideal\"\n",
            "\t\"Good\"\n",
            "\t\"Fair\"\n",
            "] unique cuts in our inventory.\n",
            "We have 5 unique cuts in our inventory.\n"
          ]
        }
      ],
      "source": [
        "#Our new marketing campaign claims we have \"the widest variety of cuts in the industry. Can you verify this? The CEO wants to know about variety, not quantitiy:\n",
        "print(f\"We have {df['Cut'].unique()} unique cuts in our inventory.\")\n",
        "print(f\"We have {df['Cut'].n_unique()} unique cuts in our inventory.\")"
      ]
    },
    {
      "cell_type": "markdown",
      "metadata": {
        "id": "V9xXMs4jEMwm"
      },
      "source": [
        "### Question 6: \"I'm meeting with our insurance company. They need to know our price exposure - what's our most and least valuable diamond?\""
      ]
    },
    {
      "cell_type": "code",
      "execution_count": 12,
      "metadata": {
        "colab": {
          "base_uri": "https://localhost:8080/"
        },
        "id": "3wBzbvfIEMwm",
        "outputId": "bb6ab296-d4e1-4c78-ad7e-9488d6804d7f"
      },
      "outputs": [
        {
          "output_type": "stream",
          "name": "stdout",
          "text": [
            "Our most valuable diamond is 101561 and our least valuable diamond is 2184.\n"
          ]
        }
      ],
      "source": [
        "#I am meeting with our insurance company. They need to know our price exposure, so what's the price of our most and least valuable diamond?:\n",
        "print(f\"Our most valuable diamond is {df['Price'].max()} and our least valuable diamond is {df['Price'].min()}.\")"
      ]
    },
    {
      "cell_type": "markdown",
      "metadata": {
        "id": "yICzyhkCEMwm"
      },
      "source": [
        "### Question 7: \"Which color grades should we focus on in our premium line? I need typical prices across our color spectrum.\"\n",
        "\n",
        "The CEO wants to understand pricing patterns."
      ]
    },
    {
      "cell_type": "code",
      "execution_count": null,
      "metadata": {
        "colab": {
          "base_uri": "https://localhost:8080/",
          "height": 304
        },
        "id": "9WRQFXV0EMwm",
        "outputId": "6a1ed4f5-b683-44ed-bb38-1bf7df1d1c9a"
      },
      "outputs": [
        {
          "output_type": "stream",
          "name": "stdout",
          "text": [
            "Typical prices across our color spectrum:\n"
          ]
        },
        {
          "output_type": "display_data",
          "data": {
            "text/plain": [
              "shape: (6, 2)\n",
              "┌───────┬──────────────┐\n",
              "│ Color ┆ Price        │\n",
              "│ ---   ┆ ---          │\n",
              "│ str   ┆ f64          │\n",
              "╞═══════╪══════════════╡\n",
              "│ D     ┆ 15255.783661 │\n",
              "│ G     ┆ 12520.050633 │\n",
              "│ H     ┆ 10487.347544 │\n",
              "│ F     ┆ 12712.241856 │\n",
              "│ E     ┆ 11539.190231 │\n",
              "│ I     ┆ 8989.636364  │\n",
              "└───────┴──────────────┘"
            ],
            "text/html": [
              "<div><style>\n",
              ".dataframe > thead > tr,\n",
              ".dataframe > tbody > tr {\n",
              "  text-align: right;\n",
              "  white-space: pre-wrap;\n",
              "}\n",
              "</style>\n",
              "<small>shape: (6, 2)</small><table border=\"1\" class=\"dataframe\"><thead><tr><th>Color</th><th>Price</th></tr><tr><td>str</td><td>f64</td></tr></thead><tbody><tr><td>&quot;D&quot;</td><td>15255.783661</td></tr><tr><td>&quot;G&quot;</td><td>12520.050633</td></tr><tr><td>&quot;H&quot;</td><td>10487.347544</td></tr><tr><td>&quot;F&quot;</td><td>12712.241856</td></tr><tr><td>&quot;E&quot;</td><td>11539.190231</td></tr><tr><td>&quot;I&quot;</td><td>8989.636364</td></tr></tbody></table></div>"
            ]
          },
          "metadata": {}
        }
      ],
      "source": [
        "#The CEO wants to understand pricing patterns. Which color grades should we focus on in our premium line?:\n",
        "print(\"Typical prices across our color spectrum:\")\n",
        "display(df.group_by('Color').agg(pl.col('Price').mean()))\n"
      ]
    },
    {
      "cell_type": "markdown",
      "metadata": {
        "id": "y8K1MLvnEMwm"
      },
      "source": [
        "**Reflection:** After analyzing by color, how has your view of the data changed? What does each row in your result represent now?"
      ]
    },
    {
      "cell_type": "markdown",
      "metadata": {
        "id": "VFjpMq6wEMwm"
      },
      "source": [
        "**Your answer:** New grain = what the row represents =\n",
        "Color"
      ]
    },
    {
      "cell_type": "markdown",
      "metadata": {
        "id": "CSwMZnyjEMwn"
      },
      "source": [
        "## Section 3: Advanced Strategic Analysis (10 minutes)\n",
        "\n",
        "The CEO leans forward: \"These next questions will shape our strategy for next year.\""
      ]
    },
    {
      "cell_type": "markdown",
      "metadata": {
        "id": "VkjHDkdbEMwn"
      },
      "source": [
        "### Question 8: \"We're thinking of specializing in certain clarity grades. For our investor deck, I need a complete breakdown showing: how many diamonds we have in each clarity grade, their typical price, and the total carats we're holding for each grade.\""
      ]
    },
    {
      "cell_type": "code",
      "execution_count": null,
      "metadata": {
        "colab": {
          "base_uri": "https://localhost:8080/",
          "height": 335
        },
        "id": "3qzCRiqmEMwn",
        "outputId": "0888d9c2-2677-447d-ba1e-bf6e231c76ce"
      },
      "outputs": [
        {
          "output_type": "stream",
          "name": "stdout",
          "text": [
            "Breakdown of diamonds by clarity grade:\n"
          ]
        },
        {
          "output_type": "display_data",
          "data": {
            "text/plain": [
              "shape: (7, 3)\n",
              "┌─────────┬──────────────┬──────────────┐\n",
              "│ Clarity ┆ Price        ┆ Carat Weight │\n",
              "│ ---     ┆ ---          ┆ ---          │\n",
              "│ str     ┆ f64          ┆ f64          │\n",
              "╞═════════╪══════════════╪══════════════╡\n",
              "│ SI1     ┆ 8018.864012  ┆ 2563.69      │\n",
              "│ IF      ┆ 22105.844749 ┆ 316.0        │\n",
              "│ VS1     ┆ 13694.113255 ┆ 1682.74      │\n",
              "│ FL      ┆ 63776.0      ┆ 7.87         │\n",
              "│ VS2     ┆ 11809.053333 ┆ 2170.81      │\n",
              "│ VVS1    ┆ 16845.680702 ┆ 389.43       │\n",
              "│ VVS2    ┆ 14142.177177 ┆ 876.58       │\n",
              "└─────────┴──────────────┴──────────────┘"
            ],
            "text/html": [
              "<div><style>\n",
              ".dataframe > thead > tr,\n",
              ".dataframe > tbody > tr {\n",
              "  text-align: right;\n",
              "  white-space: pre-wrap;\n",
              "}\n",
              "</style>\n",
              "<small>shape: (7, 3)</small><table border=\"1\" class=\"dataframe\"><thead><tr><th>Clarity</th><th>Price</th><th>Carat Weight</th></tr><tr><td>str</td><td>f64</td><td>f64</td></tr></thead><tbody><tr><td>&quot;SI1&quot;</td><td>8018.864012</td><td>2563.69</td></tr><tr><td>&quot;IF&quot;</td><td>22105.844749</td><td>316.0</td></tr><tr><td>&quot;VS1&quot;</td><td>13694.113255</td><td>1682.74</td></tr><tr><td>&quot;FL&quot;</td><td>63776.0</td><td>7.87</td></tr><tr><td>&quot;VS2&quot;</td><td>11809.053333</td><td>2170.81</td></tr><tr><td>&quot;VVS1&quot;</td><td>16845.680702</td><td>389.43</td></tr><tr><td>&quot;VVS2&quot;</td><td>14142.177177</td><td>876.58</td></tr></tbody></table></div>"
            ]
          },
          "metadata": {}
        }
      ],
      "source": [
        "#We ar thinking of specializing in certain clarity grades. For our investor deck, I need a complete breakdown showing: how many diamonds we have in each clarity grade, their typical price, and the total caracts we are holding for each grade:\n",
        "print(\"Breakdown of diamonds by clarity grade:\")\n",
        "display(df.group_by('Clarity').agg(pl.col('Price').mean(), pl.col('Carat Weight').sum()))\n"
      ]
    },
    {
      "cell_type": "markdown",
      "metadata": {
        "id": "pydXZk9mEMwn"
      },
      "source": [
        "### Question 9: \"My luxury competitor claims they have the best prices for every cut-color combination. Show me our pricing structure across these combinations - I want to see where we're competitive.\""
      ]
    },
    {
      "cell_type": "code",
      "execution_count": null,
      "metadata": {
        "colab": {
          "base_uri": "https://localhost:8080/",
          "height": 461
        },
        "id": "8EG7x2qIEMwn",
        "outputId": "4dbc86ea-5781-4041-ad4a-e4d3f88665e2"
      },
      "outputs": [
        {
          "output_type": "stream",
          "name": "stdout",
          "text": [
            "Pricing structure across cut-color combinations:\n"
          ]
        },
        {
          "output_type": "display_data",
          "data": {
            "text/plain": [
              "shape: (30, 3)\n",
              "┌─────────────────┬───────┬──────────────┐\n",
              "│ Cut             ┆ Color ┆ Price        │\n",
              "│ ---             ┆ ---   ┆ ---          │\n",
              "│ str             ┆ str   ┆ f64          │\n",
              "╞═════════════════╪═══════╪══════════════╡\n",
              "│ Ideal           ┆ H     ┆ 11527.700873 │\n",
              "│ Signature-Ideal ┆ D     ┆ 19823.1      │\n",
              "│ Signature-Ideal ┆ F     ┆ 13247.947368 │\n",
              "│ Fair            ┆ D     ┆ 6058.25      │\n",
              "│ Signature-Ideal ┆ I     ┆ 8823.463415  │\n",
              "│ …               ┆ …     ┆ …            │\n",
              "│ Very Good       ┆ E     ┆ 12101.910217 │\n",
              "│ Fair            ┆ F     ┆ 6063.625     │\n",
              "│ Fair            ┆ E     ┆ 5370.625     │\n",
              "│ Signature-Ideal ┆ H     ┆ 9112.688889  │\n",
              "│ Good            ┆ I     ┆ 8174.113043  │\n",
              "└─────────────────┴───────┴──────────────┘"
            ],
            "text/html": [
              "<div><style>\n",
              ".dataframe > thead > tr,\n",
              ".dataframe > tbody > tr {\n",
              "  text-align: right;\n",
              "  white-space: pre-wrap;\n",
              "}\n",
              "</style>\n",
              "<small>shape: (30, 3)</small><table border=\"1\" class=\"dataframe\"><thead><tr><th>Cut</th><th>Color</th><th>Price</th></tr><tr><td>str</td><td>str</td><td>f64</td></tr></thead><tbody><tr><td>&quot;Ideal&quot;</td><td>&quot;H&quot;</td><td>11527.700873</td></tr><tr><td>&quot;Signature-Ideal&quot;</td><td>&quot;D&quot;</td><td>19823.1</td></tr><tr><td>&quot;Signature-Ideal&quot;</td><td>&quot;F&quot;</td><td>13247.947368</td></tr><tr><td>&quot;Fair&quot;</td><td>&quot;D&quot;</td><td>6058.25</td></tr><tr><td>&quot;Signature-Ideal&quot;</td><td>&quot;I&quot;</td><td>8823.463415</td></tr><tr><td>&hellip;</td><td>&hellip;</td><td>&hellip;</td></tr><tr><td>&quot;Very Good&quot;</td><td>&quot;E&quot;</td><td>12101.910217</td></tr><tr><td>&quot;Fair&quot;</td><td>&quot;F&quot;</td><td>6063.625</td></tr><tr><td>&quot;Fair&quot;</td><td>&quot;E&quot;</td><td>5370.625</td></tr><tr><td>&quot;Signature-Ideal&quot;</td><td>&quot;H&quot;</td><td>9112.688889</td></tr><tr><td>&quot;Good&quot;</td><td>&quot;I&quot;</td><td>8174.113043</td></tr></tbody></table></div>"
            ]
          },
          "metadata": {}
        }
      ],
      "source": [
        "#My luxury competitor claims they have the best prices for every cut-color combination. Show me our pricing structure across these combinations, I want to see where we ar ecompetitive:\n",
        "print(\"Pricing structure across cut-color combinations:\")\n",
        "display(df.group_by(['Cut', 'Color']).agg(pl.col('Price').mean()))\n"
      ]
    },
    {
      "cell_type": "markdown",
      "metadata": {
        "id": "NY9CvL5WEMwn"
      },
      "source": [
        "**Reflection:** How specific is your analysis now? What level of detail does each row represent?"
      ]
    },
    {
      "cell_type": "markdown",
      "metadata": {
        "id": "gZst-tSYEMwn"
      },
      "source": [
        "**Your answer:** New grain = unique combination of cut and color"
      ]
    },
    {
      "cell_type": "markdown",
      "metadata": {
        "id": "q0nQitu7EMwn"
      },
      "source": [
        "### Question 10: URGENT - \"Our biggest client is interested in purchasing entire inventory segments. They asked: 'Which color-cut combinations represent your highest total inventory value?' Show me the top 5 most valuable inventory segments by total worth, and include how many diamonds are in each segment.\"\n",
        "\n",
        "This is critical for tomorrow's negotiation."
      ]
    },
    {
      "cell_type": "code",
      "execution_count": null,
      "metadata": {
        "id": "WTb1sLYYEMwn",
        "colab": {
          "base_uri": "https://localhost:8080/",
          "height": 308
        },
        "outputId": "2656e0cc-69bf-4dd2-96d4-8e40f1502b85"
      },
      "outputs": [
        {
          "output_type": "stream",
          "name": "stdout",
          "text": [
            "Top 5 most valuable inventory segments by total worth:\n"
          ]
        },
        {
          "output_type": "stream",
          "name": "stderr",
          "text": [
            "/tmp/ipython-input-1001913952.py:3: DeprecationWarning: `pl.count()` is deprecated. Please use `pl.len()` instead.\n",
            "  display(df.group_by(['Color', 'Cut']).agg(pl.col('Price').sum().alias('Total Value'), pl.count().alias('Number of Diamonds')).sort('Total Value', descending=True).head(5))\n"
          ]
        },
        {
          "output_type": "display_data",
          "data": {
            "text/plain": [
              "shape: (5, 4)\n",
              "┌───────┬───────────┬─────────────┬────────────────────┐\n",
              "│ Color ┆ Cut       ┆ Total Value ┆ Number of Diamonds │\n",
              "│ ---   ┆ ---       ┆ ---         ┆ ---                │\n",
              "│ str   ┆ str       ┆ i64         ┆ u32                │\n",
              "╞═══════╪═══════════╪═════════════╪════════════════════╡\n",
              "│ G     ┆ Ideal     ┆ 9363514     ┆ 690                │\n",
              "│ G     ┆ Very Good ┆ 7140620     ┆ 578                │\n",
              "│ F     ┆ Very Good ┆ 5648327     ┆ 455                │\n",
              "│ F     ┆ Ideal     ┆ 5346782     ┆ 363                │\n",
              "│ H     ┆ Ideal     ┆ 5279687     ┆ 458                │\n",
              "└───────┴───────────┴─────────────┴────────────────────┘"
            ],
            "text/html": [
              "<div><style>\n",
              ".dataframe > thead > tr,\n",
              ".dataframe > tbody > tr {\n",
              "  text-align: right;\n",
              "  white-space: pre-wrap;\n",
              "}\n",
              "</style>\n",
              "<small>shape: (5, 4)</small><table border=\"1\" class=\"dataframe\"><thead><tr><th>Color</th><th>Cut</th><th>Total Value</th><th>Number of Diamonds</th></tr><tr><td>str</td><td>str</td><td>i64</td><td>u32</td></tr></thead><tbody><tr><td>&quot;G&quot;</td><td>&quot;Ideal&quot;</td><td>9363514</td><td>690</td></tr><tr><td>&quot;G&quot;</td><td>&quot;Very Good&quot;</td><td>7140620</td><td>578</td></tr><tr><td>&quot;F&quot;</td><td>&quot;Very Good&quot;</td><td>5648327</td><td>455</td></tr><tr><td>&quot;F&quot;</td><td>&quot;Ideal&quot;</td><td>5346782</td><td>363</td></tr><tr><td>&quot;H&quot;</td><td>&quot;Ideal&quot;</td><td>5279687</td><td>458</td></tr></tbody></table></div>"
            ]
          },
          "metadata": {}
        }
      ],
      "source": [
        "#Our biggest client is interested in purchasing entire inventory segments. They asked: Which color-cut combinations represent your highest total inventory value? Show me the top 5 most valuable inventory segments by total worth, include how many diamonds are in each segment:\n",
        "print(\"Top 5 most valuable inventory segments by total worth:\")\n",
        "display(df.group_by(['Color', 'Cut']).agg(pl.col('Price').sum().alias('Total Value'), pl.count().alias('Number of Diamonds')).sort('Total Value', descending=True).head(5))"
      ]
    },
    {
      "cell_type": "markdown",
      "source": [
        "Primary key = referenced by other tables to pull info out of original table\n",
        "Foreign key =\n"
      ],
      "metadata": {
        "id": "FYCVe1fRo9Ve"
      }
    },
    {
      "cell_type": "markdown",
      "metadata": {
        "id": "TRsQr020EMwn"
      },
      "source": [
        "## Debrief\n",
        "\n",
        "Congratulations! You've just completed your first day as the diamond company's data analyst.\n",
        "\n",
        "Remember:\n",
        "- CEOs speak in business language, not technical terms\n",
        "- Always understand what each row represents before analyzing\n",
        "- Business questions contain clues about which operations to use"
      ]
    }
  ],
  "metadata": {
    "kernelspec": {
      "display_name": "Python 3",
      "language": "python",
      "name": "python3"
    },
    "language_info": {
      "codemirror_mode": {
        "name": "ipython",
        "version": 3
      },
      "file_extension": ".py",
      "mimetype": "text/x-python",
      "name": "python",
      "nbconvert_exporter": "python",
      "pygments_lexer": "ipython3",
      "version": "3.12.0"
    },
    "colab": {
      "provenance": []
    }
  },
  "nbformat": 4,
  "nbformat_minor": 0
}